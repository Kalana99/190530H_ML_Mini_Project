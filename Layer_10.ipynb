{
  "nbformat": 4,
  "nbformat_minor": 0,
  "metadata": {
    "colab": {
      "provenance": [],
      "mount_file_id": "1yuNQN8ZVKAJT7DsEfZd4BZQCgJBj-Vz-",
      "authorship_tag": "ABX9TyOp1Cxdpf4Cx6hkAnqS09ay",
      "include_colab_link": true
    },
    "kernelspec": {
      "name": "python3",
      "display_name": "Python 3"
    },
    "language_info": {
      "name": "python"
    }
  },
  "cells": [
    {
      "cell_type": "markdown",
      "metadata": {
        "id": "view-in-github",
        "colab_type": "text"
      },
      "source": [
        "<a href=\"https://colab.research.google.com/github/Kalana99/190530H_ML_Mini_Project/blob/main/Layer_10.ipynb\" target=\"_parent\"><img src=\"https://colab.research.google.com/assets/colab-badge.svg\" alt=\"Open In Colab\"/></a>"
      ]
    },
    {
      "cell_type": "code",
      "execution_count": 1,
      "metadata": {
        "id": "am6o9zJYWmbm"
      },
      "outputs": [],
      "source": [
        "import pandas as pd\n",
        "import numpy as np          # For mathematical calculations\n",
        "\n",
        "from sklearn.model_selection import train_test_split\n",
        "import seaborn as sns\n",
        "\n",
        "import matplotlib.pyplot as plt  # For plotting graphs\n",
        "from pandas import Series        # To work on series\n",
        "%matplotlib inline\n",
        "import warnings                   # To ignore the warnings\n",
        "warnings.filterwarnings(\"ignore\")"
      ]
    },
    {
      "cell_type": "code",
      "source": [
        "train = pd.read_csv('/content/drive/MyDrive/ML Mini Project/Data/L10/train.csv')\n",
        "test = pd.read_csv('/content/drive/MyDrive/ML Mini Project/Data/L10/test.csv')\n",
        "valid = pd.read_csv('/content/drive/MyDrive/ML Mini Project/Data/L10/valid.csv')\n",
        "\n",
        "# Find columns with missing values and count how many missing values in each column\n",
        "missing_columns = train.columns[train.isnull().any()]\n",
        "missing_counts = train[missing_columns].isnull().sum()\n",
        "\n",
        "# Print the columns with missing values and their corresponding missing value counts\n",
        "print(\"shape of train: \", train.shape)\n",
        "for column in missing_columns:\n",
        "    print(f\"Column '{column}' has {missing_counts[column]} missing values.\")"
      ],
      "metadata": {
        "colab": {
          "base_uri": "https://localhost:8080/"
        },
        "id": "WlMLUGn8cDe2",
        "outputId": "fc0537d7-d61d-4163-f5c4-c7936a0dbc69"
      },
      "execution_count": 2,
      "outputs": [
        {
          "output_type": "stream",
          "name": "stdout",
          "text": [
            "shape of train:  (28520, 772)\n",
            "Column 'label_2' has 480 missing values.\n"
          ]
        }
      ]
    },
    {
      "cell_type": "code",
      "source": [
        "L1 = \"label_1\" #Speaker ID\n",
        "L2 = \"label_2\" #Speaker age\n",
        "L3 = \"label_3\" #Speaker gender\n",
        "L4 = \"label_4\" #Speaker accent\n",
        "LABELS = [L1, L2, L3, L4,]\n",
        "AGE_LABEL = L2\n",
        "FEATURES = [f'feature_{i}' for i in range(1,769)]"
      ],
      "metadata": {
        "id": "54elzCgdcc0_"
      },
      "execution_count": null,
      "outputs": []
    },
    {
      "cell_type": "code",
      "source": [
        "#OutLier analysis\n",
        "data = train[0:5]\n",
        "# Set the style of seaborn\n",
        "sns.set(style=\"whitegrid\")\n",
        "\n",
        "# Create a box plot for each feature to visualize outliers\n",
        "for col in data.columns:\n",
        "    plt.figure(figsize=(8, 6))\n",
        "    sns.boxplot(data[col])\n",
        "    plt.title(f'Box Plot of {col}')\n",
        "    plt.xlabel(col)\n",
        "    # plt.show()"
      ],
      "metadata": {
        "id": "1orsbHOLcfEc"
      },
      "execution_count": null,
      "outputs": []
    },
    {
      "cell_type": "code",
      "source": [
        "#Heat Map\n",
        "\n",
        "sns.heatmap(train, annot=True, cmap='coolwarm', center=0)"
      ],
      "metadata": {
        "id": "CfNw6fgS8AjZ"
      },
      "execution_count": null,
      "outputs": []
    },
    {
      "cell_type": "code",
      "source": [
        "train_df = train.copy()\n",
        "test_df = test.copy()\n",
        "valid_df = valid.copy()\n",
        "\n",
        "train_df.head()"
      ],
      "metadata": {
        "id": "ax8NC3Js8Dqh"
      },
      "execution_count": null,
      "outputs": []
    },
    {
      "cell_type": "code",
      "source": [
        "train_df[LABELS + [FEATURES[i] for i in range(0,768)]].describe()"
      ],
      "metadata": {
        "id": "fQ49aKw58Mp_"
      },
      "execution_count": null,
      "outputs": []
    },
    {
      "cell_type": "code",
      "source": [
        "train_df[L4].value_counts()"
      ],
      "metadata": {
        "id": "LgEg1Xk78lwo"
      },
      "execution_count": null,
      "outputs": []
    },
    {
      "cell_type": "code",
      "source": [
        "train_df.info()"
      ],
      "metadata": {
        "id": "VVEXOEMQ9PvA"
      },
      "execution_count": null,
      "outputs": []
    },
    {
      "cell_type": "code",
      "source": [
        "test_df.head()"
      ],
      "metadata": {
        "id": "UfMzr3IPMSOB"
      },
      "execution_count": null,
      "outputs": []
    },
    {
      "cell_type": "code",
      "source": [
        "from sklearn.preprocessing import RobustScaler # eliminate outliers\n",
        "\n",
        "x_train = {}\n",
        "x_valid = {}\n",
        "x_test = {}\n",
        "\n",
        "y_train = {}\n",
        "y_valid = {}\n",
        "y_test = {}\n",
        "\n",
        "#create dictionaries for each label\n",
        "for target_label in LABELS:\n",
        "  tr_df = train_df[train_df['label_2'].notna()] if target_label == \"label_2\" else train_df\n",
        "  vl_df = valid_df[valid_df['label_2'].notna()] if target_label == \"label_2\" else valid_df\n",
        "  te_df = test_df\n",
        "\n",
        "  scaler = RobustScaler()\n",
        "\n",
        "  x_train[target_label] = pd.DataFrame(scaler.fit_transform(tr_df.drop(LABELS, axis=1)), columns=FEATURES)\n",
        "  y_train[target_label] = tr_df[target_label]\n",
        "\n",
        "  x_valid[target_label] = pd.DataFrame(scaler.transform(vl_df.drop(LABELS, axis=1)), columns=FEATURES)\n",
        "  y_valid  [target_label] = vl_df[target_label]\n",
        "\n",
        "  x_test[target_label] = pd.DataFrame(scaler.transform(te_df.drop(['ID'], axis=1)), columns=FEATURES)\n",
        "  # y_test[target_label] = te_df[target_label] <- need to predict"
      ],
      "metadata": {
        "id": "9CGAOKuhKn6q"
      },
      "execution_count": null,
      "outputs": []
    },
    {
      "cell_type": "code",
      "source": [
        "x_train_df = x_train[L1].copy()\n",
        "y_train_df = y_train[L1].copy()\n",
        "\n",
        "x_valid_df = x_valid[L1].copy()\n",
        "y_valid_df = y_valid[L1].copy()\n",
        "\n",
        "x_test_df = x_test[L1].copy()\n",
        "# y_test__df = y_test[L1].copy() <- need to predict"
      ],
      "metadata": {
        "id": "le61IzMqOEsq"
      },
      "execution_count": null,
      "outputs": []
    },
    {
      "cell_type": "code",
      "source": [
        "from sklearn.utils import class_weight\n",
        "from sklearn import metrics\n",
        "from sklearn.metrics import classification_report, f1_score\n",
        "from sklearn.metrics import confusion_matrix\n",
        "\n",
        "from sklearn import svm\n",
        "from sklearn.neighbors import KNeighborsClassifier\n",
        "from sklearn.ensemble import RandomForestClassifier\n"
      ],
      "metadata": {
        "id": "cpECr0JEP2f0"
      },
      "execution_count": null,
      "outputs": []
    },
    {
      "cell_type": "code",
      "source": [
        "classifier = svm.SVC(kernel='linear')\n",
        "classifier.fit(x_train_df, y_train_df)\n",
        "\n",
        "# Accuarcy Check\n",
        "y_pred = classifier.predict(x_valid_df)\n",
        "# print(\"confusion_matrix:\\n \",metrics.confusion_matrix(y_valid_df, y_pred))\n",
        "print(\"accuracy_score: \",metrics.accuracy_score(y_valid_df, y_pred))\n",
        "print(\"f1_score: \",f1_score(y_valid_df, y_pred, average='weighted')) #f-1 score\n",
        "print(\"precision_score: \",metrics.precision_score(y_valid_df, y_pred, average='weighted' ))\n",
        "print(\"recall_score: \",metrics.recall_score(y_valid_df, y_pred, average='weighted'))\n",
        "\n",
        "y_test_pred = classifier.predict(x_test_df)"
      ],
      "metadata": {
        "id": "MvgfWbHcOWqi"
      },
      "execution_count": null,
      "outputs": []
    },
    {
      "cell_type": "markdown",
      "source": [
        "### **FEATURE ENGINEERING**"
      ],
      "metadata": {
        "id": "2LenCqxnP9oi"
      }
    },
    {
      "cell_type": "code",
      "source": [
        "# @title 1. Feature selection using SelectKBest and f_classif\n",
        "from sklearn.feature_selection import SelectKBest, f_classif, chi2\n",
        "# from sklearn.neighbors import KNeighborsClassifier\n",
        "#chi2 (Chi-square) cannot be used when datafarame has negative numbers\n",
        "\n",
        "#Validation\n",
        "selector = SelectKBest(f_classif, k=150)\n",
        "x_new = selector.fit_transform(x_train_df, y_train_df)\n",
        "x_valid_df_after_f_classif = selector.transform(x_valid_df)\n",
        "print(\"shape: \", x_new.shape)\n",
        "\n",
        "\n",
        "# #Testing\n",
        "x_test_df_after_f_classif = selector.transform(x_test_df)\n",
        "\n",
        "# # model train by Initialize kNN classifier\n",
        "# k = 5  # Number of neighbors\n",
        "# classifier = KNeighborsClassifier(n_neighbors=k)\n",
        "# # Train the kNN classifier on the selected features\n",
        "# classifier.fit(x_new, y_train_df)\n",
        "\n",
        "# # Accuarcy Check\n",
        "# y_pred = classifier.predict(x_valid_df_after_f_classif)\n",
        "# # print(\"confusion_matrix: \",metrics.confusion_matrix(y_valid_df, y_pred))\n",
        "# print(\"accuracy_score: \",metrics.accuracy_score(y_valid_df, y_pred))\n",
        "# print(\"f1_score: \",f1_score(y_valid_df, y_pred, average='weighted')) #f-1 score\n",
        "# print(\"precision_score: \",metrics.precision_score(y_valid_df, y_pred, average='weighted' ))\n",
        "# print(\"recall_score: \",metrics.recall_score(y_valid_df, y_pred, average='weighted'))\n"
      ],
      "metadata": {
        "colab": {
          "base_uri": "https://localhost:8080/"
        },
        "cellView": "form",
        "id": "GPtJ0_nnQA4K",
        "outputId": "8c228e95-6b18-455c-d110-d1c8ad7238b6"
      },
      "execution_count": null,
      "outputs": [
        {
          "output_type": "stream",
          "name": "stdout",
          "text": [
            "shape:  (28520, 150)\n"
          ]
        }
      ]
    },
    {
      "cell_type": "code",
      "source": [
        "# @title 2. Select Percentile for feature engineering\n",
        "import pandas as pd\n",
        "from sklearn.feature_selection import SelectPercentile, f_classif\n",
        "from sklearn.model_selection import train_test_split\n",
        "# from sklearn.linear_model import LogisticRegression\n",
        "# from sklearn.metrics import accuracy_score\n",
        "\n",
        "#Validation\n",
        "# Initialize SelectPercentile with f_classif scoring and percentile=10 (adjust as needed)\n",
        "selector = SelectPercentile(score_func=f_classif, percentile=40)\n",
        "# Fit and transform the data\n",
        "x_new = selector.fit_transform(x_new, y_train_df)\n",
        "x_valid_df_after_selectPercentile = selector.transform(x_valid_df_after_f_classif)\n",
        "print(\"shape: \", x_new.shape)\n",
        "\n",
        "#Testing\n",
        "x_test_df_after_selectPercentile = selector.transform(x_test_df_after_f_classif)\n",
        "\n",
        "# # model train by Initialize kNN classifier\n",
        "# k = 5  # Number of neighbors\n",
        "# classifier = KNeighborsClassifier(n_neighbors=k)\n",
        "# # Train the kNN classifier on the selected features\n",
        "# classifier.fit(x_new, y_train_df)\n",
        "\n",
        "# # Accuarcy Check\n",
        "# y_pred = classifier.predict(x_valid_df_after_selectPercentile)\n",
        "# # print(\"confusion_matrix: \",metrics.confusion_matrix(y_valid_df, y_pred))\n",
        "# print(\"accuracy_score: \",metrics.accuracy_score(y_valid_df, y_pred))\n",
        "# print(\"f1_score: \",f1_score(y_valid_df, y_pred, average='weighted')) #f-1 score\n",
        "# print(\"precision_score: \",metrics.precision_score(y_valid_df, y_pred, average='weighted' ))\n",
        "# print(\"recall_score: \",metrics.recall_score(y_valid_df, y_pred, average='weighted'))\n"
      ],
      "metadata": {
        "colab": {
          "base_uri": "https://localhost:8080/"
        },
        "cellView": "form",
        "id": "r6JHDOEqRX2y",
        "outputId": "39f71960-6e2b-4ce0-8b13-25bf81ea86a8"
      },
      "execution_count": null,
      "outputs": [
        {
          "output_type": "stream",
          "name": "stdout",
          "text": [
            "shape:  (28520, 60)\n"
          ]
        }
      ]
    },
    {
      "cell_type": "code",
      "source": [
        "# @title 3. PCA for feature engineering\n",
        "from sklearn.decomposition import PCA\n",
        "\n",
        "#Validation\n",
        "pca = PCA(n_components=0.98, svd_solver='full')\n",
        "pca.fit(x_new)\n",
        "x_train_trf = pd.DataFrame(pca.transform(x_new))\n",
        "x_valid_trf_pca = pd.DataFrame(pca.transform(x_valid_df_after_selectPercentile))\n",
        "print('Shape after PCA: ',x_train_trf.shape)\n",
        "\n",
        "# # model train by Initialize kNN classifier\n",
        "# k = 5  # Number of neighbors\n",
        "# classifier = KNeighborsClassifier(n_neighbors=k)\n",
        "# # Train the kNN classifier on the selected features\n",
        "# classifier.fit(x_train_trf, y_train_df)\n",
        "\n",
        "# # Accuarcy Check\n",
        "# y_pred = classifier.predict(x_valid_trf_pca)\n",
        "# # print(\"confusion_matrix:\\n \",metrics.confusion_matrix(y_valid_df, y_pred))\n",
        "# print(\"accuracy_score: \",metrics.accuracy_score(y_valid_df, y_pred))\n",
        "# print(\"f1_score: \",f1_score(y_valid_df, y_pred, average='weighted')) #f-1 score\n",
        "# print(\"precision_score: \",metrics.precision_score(y_valid_df, y_pred, average='weighted' ))\n",
        "# print(\"recall_score: \",metrics.recall_score(y_valid_df, y_pred, average='weighted'))\n"
      ],
      "metadata": {
        "colab": {
          "base_uri": "https://localhost:8080/"
        },
        "cellView": "form",
        "id": "ZL4EA9NLRh3c",
        "outputId": "d23f033b-78a7-4038-fb09-f0195b3691cc"
      },
      "execution_count": null,
      "outputs": [
        {
          "output_type": "stream",
          "name": "stdout",
          "text": [
            "Shape after PCA:  (28520, 51)\n"
          ]
        }
      ]
    },
    {
      "cell_type": "code",
      "source": [
        "# @title 4. VarianceThreshold for feature engineering\n",
        "from sklearn.feature_selection import VarianceThreshold\n",
        "\n",
        "threshold = 0.55\n",
        "selector = VarianceThreshold(threshold=threshold)\n",
        "x_new = selector.fit_transform(x_train_df)\n",
        "x_valid_df_after_VarianceThreshold = selector.transform(x_valid_df)\n",
        "print(\"shape: \", x_new.shape)\n",
        "\n",
        "# # model train\n",
        "# clf = svm.SVC(kernel=\"linear\")\n",
        "# clf.fit( x_new, y_train_df)\n",
        "\n",
        "# # Accuarcy Check\n",
        "# y_pred = clf.predict(x_valid_df_after_VarianceThreshold)\n",
        "# print(metrics.confusion_matrix(y_valid_df, y_pred))\n",
        "# print(metrics.accuracy_score(y_valid_df, y_pred))\n",
        "# print(metrics.precision_score(y_valid_df, y_pred, average='weighted' ))\n",
        "# print(metrics.recall_score(y_valid_df, y_pred, average='weighted'))"
      ],
      "metadata": {
        "colab": {
          "base_uri": "https://localhost:8080/"
        },
        "cellView": "form",
        "id": "F5c1r35zUNVA",
        "outputId": "708119dc-0151-4e27-9748-80e1a21af2da"
      },
      "execution_count": null,
      "outputs": [
        {
          "output_type": "stream",
          "name": "stdout",
          "text": [
            "shape:  (28520, 610)\n"
          ]
        }
      ]
    },
    {
      "cell_type": "markdown",
      "source": [
        "### **Model Evaluation**"
      ],
      "metadata": {
        "id": "gnMuD-w3O-fd"
      }
    },
    {
      "cell_type": "code",
      "source": [
        "# @title 1. SVM\n",
        "# model train\n",
        "svm_clf = svm.SVC(kernel=\"linear\")\n",
        "svm_clf.fit( x_new, y_train_df)\n",
        "\n",
        "# Accuarcy Check\n",
        "y_pred = svm_clf.predict(x_valid_df_after_VarianceThreshold)\n",
        "# print(metrics.confusion_matrix(y_valid_df, y_pred))\n",
        "print(\"accuracy_score: \",metrics.accuracy_score(y_valid_df, y_pred))\n",
        "print(\"f1_score: \",f1_score(y_valid_df, y_pred, average='weighted')) #f-1 score\n",
        "print(\"precision_score: \",metrics.precision_score(y_valid_df, y_pred, average='weighted' ))\n",
        "print(\"recall_score: \",metrics.recall_score(y_valid_df, y_pred, average='weighted'))"
      ],
      "metadata": {
        "colab": {
          "base_uri": "https://localhost:8080/"
        },
        "id": "qs9Nb5iiU3F5",
        "outputId": "fe0443c4-7a29-4923-d112-6364f5c625d6"
      },
      "execution_count": null,
      "outputs": [
        {
          "output_type": "stream",
          "name": "stdout",
          "text": [
            "accuracy_score:  0.9453333333333334\n",
            "f1_score:  0.9464394754272543\n",
            "precision_score:  0.9523410379094589\n",
            "recall_score:  0.9453333333333334\n"
          ]
        }
      ]
    },
    {
      "cell_type": "code",
      "source": [
        "# @title 2. K-NN\n",
        "# model train by Initialize kNN classifier\n",
        "k = 5  # Number of neighbors\n",
        "knn_clf = KNeighborsClassifier(n_neighbors=k)\n",
        "# Train the kNN classifier on the selected features\n",
        "knn_clf.fit(x_new, y_train_df)\n",
        "\n",
        "# Accuarcy Check\n",
        "y_pred = knn_clf.predict(x_valid_df_after_VarianceThreshold)\n",
        "# print(metrics.confusion_matrix(y_valid_df, y_pred))\n",
        "print(\"accuracy_score: \",metrics.accuracy_score(y_valid_df, y_pred))\n",
        "print(\"f1_score: \",f1_score(y_valid_df, y_pred, average='weighted')) #f-1 score\n",
        "print(\"precision_score: \",metrics.precision_score(y_valid_df, y_pred, average='weighted' ))\n",
        "print(\"recall_score: \",metrics.recall_score(y_valid_df, y_pred, average='weighted'))"
      ],
      "metadata": {
        "colab": {
          "base_uri": "https://localhost:8080/"
        },
        "cellView": "form",
        "id": "OgmBbjEwSDkr",
        "outputId": "39166784-1cf4-4087-9811-21216f076cb3"
      },
      "execution_count": null,
      "outputs": [
        {
          "output_type": "stream",
          "name": "stdout",
          "text": [
            "accuracy_score:  0.8693333333333333\n",
            "f1_score:  0.8710878796533734\n",
            "precision_score:  0.8864625705638493\n",
            "recall_score:  0.8693333333333333\n"
          ]
        }
      ]
    },
    {
      "cell_type": "code",
      "source": [
        "# @title 3. Random Forest\n",
        "# model train by Initialize kNN classifier\n",
        "n = 60  # Number of estimators\n",
        "rf_clf = RandomForestClassifier(n_estimators=n)\n",
        "# Train the kNN classifier on the selected features\n",
        "rf_clf.fit(x_new, y_train_df)\n",
        "\n",
        "# Accuarcy Check\n",
        "y_pred = rf_clf.predict(x_valid_df_after_VarianceThreshold)\n",
        "# print(metrics.confusion_matrix(y_valid_df, y_pred))\n",
        "print(\"accuracy_score: \",metrics.accuracy_score(y_valid_df, y_pred))\n",
        "print(\"f1_score: \",f1_score(y_valid_df, y_pred, average='weighted')) #f-1 score\n",
        "print(\"precision_score: \",metrics.precision_score(y_valid_df, y_pred, average='weighted' ))\n",
        "print(\"recall_score: \",metrics.recall_score(y_valid_df, y_pred, average='weighted'))"
      ],
      "metadata": {
        "colab": {
          "base_uri": "https://localhost:8080/"
        },
        "id": "q9Xl3s2Jw3qn",
        "outputId": "839f2238-8069-4597-b475-3d65de81c66c"
      },
      "execution_count": null,
      "outputs": [
        {
          "output_type": "stream",
          "name": "stdout",
          "text": [
            "accuracy_score:  0.8213333333333334\n",
            "f1_score:  0.821335569393388\n",
            "precision_score:  0.8333448753402314\n",
            "recall_score:  0.8213333333333334\n"
          ]
        }
      ]
    },
    {
      "cell_type": "markdown",
      "source": [
        "### **Hyper-parameter Tunning**"
      ],
      "metadata": {
        "id": "isbKML6q2nR6"
      }
    },
    {
      "cell_type": "code",
      "source": [
        "from sklearn.experimental import enable_halving_search_cv  # noqa\n",
        "from sklearn.model_selection import HalvingRandomSearchCV\n",
        "from scipy.stats import randint\n",
        "\n",
        "clf = RandomForestClassifier(random_state=0)\n",
        "np.random.seed(0)\n",
        "\n",
        "param_distributions = {\"max_depth\": [3, None],\n",
        "                        \"min_samples_split\": randint(2, 11)}\n",
        "search = HalvingRandomSearchCV(clf, param_distributions,\n",
        "                                resource='n_estimators',\n",
        "                                max_resources=10,\n",
        "                                random_state=0).fit(x_new, y_train_df)\n",
        "search.best_params_"
      ],
      "metadata": {
        "colab": {
          "base_uri": "https://localhost:8080/"
        },
        "id": "LLorGZKw2yO5",
        "outputId": "835a5026-2fea-4aca-ffe5-6a593542505d"
      },
      "execution_count": null,
      "outputs": [
        {
          "output_type": "execute_result",
          "data": {
            "text/plain": [
              "{'max_depth': None, 'min_samples_split': 10, 'n_estimators': 9}"
            ]
          },
          "metadata": {},
          "execution_count": 16
        }
      ]
    },
    {
      "cell_type": "code",
      "source": [
        "from sklearn.model_selection import GridSearchCV\n",
        "\n",
        "svm_clf = svm.SVC()\n",
        "\n",
        "param_grid = {\n",
        "    'C': [0.1, 1, 10],  # Regularization parameter\n",
        "    'kernel': ['linear', 'rbf'],  # Kernel type\n",
        "    'gamma': ['scale', 'auto', 0.1, 1],  # Kernel coefficient\n",
        "}\n",
        "\n",
        "grid_search = GridSearchCV(estimator=svm_clf, param_grid=param_grid, cv=5, n_jobs=-1)\n",
        "grid_search.fit(x_new, y_train_df)\n",
        "\n",
        "best_svm = grid_search.best_estimator_"
      ],
      "metadata": {
        "id": "hL01J5j07Ri7"
      },
      "execution_count": null,
      "outputs": []
    },
    {
      "cell_type": "code",
      "source": [
        "y_pred = search.predict(x_valid_df_after_VarianceThreshold)\n",
        "# print(metrics.confusion_matrix(y_valid_df, y_pred))\n",
        "print(\"accuracy_score: \",metrics.accuracy_score(y_valid_df, y_pred))\n",
        "print(\"f1_score: \",f1_score(y_valid_df, y_pred, average='weighted')) #f-1 score\n",
        "print(\"precision_score: \",metrics.precision_score(y_valid_df, y_pred, average='weighted' ))\n",
        "print(\"recall_score: \",metrics.recall_score(y_valid_df, y_pred, average='weighted'))"
      ],
      "metadata": {
        "id": "_TnFxHrn8ReI"
      },
      "execution_count": null,
      "outputs": []
    },
    {
      "cell_type": "code",
      "source": [
        "y_pred = best_svm.predict(x_valid_df_after_VarianceThreshold)\n",
        "# print(metrics.confusion_matrix(y_valid_df, y_pred))\n",
        "print(\"accuracy_score: \",metrics.accuracy_score(y_valid_df, y_pred))\n",
        "print(\"f1_score: \",f1_score(y_valid_df, y_pred, average='weighted')) #f-1 score\n",
        "print(\"precision_score: \",metrics.precision_score(y_valid_df, y_pred, average='weighted' ))\n",
        "print(\"recall_score: \",metrics.recall_score(y_valid_df, y_pred, average='weighted'))"
      ],
      "metadata": {
        "id": "73k5Lg0V785I"
      },
      "execution_count": null,
      "outputs": []
    }
  ]
}