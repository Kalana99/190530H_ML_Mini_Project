{
  "nbformat": 4,
  "nbformat_minor": 0,
  "metadata": {
    "colab": {
      "provenance": [],
      "mount_file_id": "1NXzkt-Dj4XIXpmg_n4mjK2_L1LMXKrQU",
      "authorship_tag": "ABX9TyOiD9paendeDnaRXUd/xEJF",
      "include_colab_link": true
    },
    "kernelspec": {
      "name": "python3",
      "display_name": "Python 3"
    },
    "language_info": {
      "name": "python"
    }
  },
  "cells": [
    {
      "cell_type": "markdown",
      "metadata": {
        "id": "view-in-github",
        "colab_type": "text"
      },
      "source": [
        "<a href=\"https://colab.research.google.com/github/Kalana99/190530H_ML_Mini_Project/blob/main/Layer_10.ipynb\" target=\"_parent\"><img src=\"https://colab.research.google.com/assets/colab-badge.svg\" alt=\"Open In Colab\"/></a>"
      ]
    },
    {
      "cell_type": "code",
      "execution_count": null,
      "metadata": {
        "id": "am6o9zJYWmbm"
      },
      "outputs": [],
      "source": [
        "import pandas as pd\n",
        "import numpy as np\n",
        "import matplotlib.pyplot as plt\n",
        "%matplotlib inline\n",
        "import warnings\n",
        "warnings.filterwarnings(\"ignore\")"
      ]
    },
    {
      "cell_type": "code",
      "source": [
        "train = pd.read_csv('/content/drive/MyDrive/ML Mini Project/Data/L10/train.csv')\n",
        "test = pd.read_csv('/content/drive/MyDrive/ML Mini Project/Data/L10/test.csv')\n",
        "valid = pd.read_csv('/content/drive/MyDrive/ML Mini Project/Data/L10/valid.csv')\n",
        "\n",
        "# Find columns with missing values and count how many missing values in each column\n",
        "missing_columns = train.columns[train.isnull().any()]\n",
        "missing_counts = train[missing_columns].isnull().sum()\n",
        "\n",
        "# Print the columns with missing values and their corresponding missing value counts\n",
        "print(\"shape of train: \", train.shape)\n",
        "for column in missing_columns:\n",
        "    print(f\"Column '{column}' has {missing_counts[column]} missing values.\")"
      ],
      "metadata": {
        "colab": {
          "base_uri": "https://localhost:8080/"
        },
        "id": "WlMLUGn8cDe2",
        "outputId": "f088f8d7-9757-415f-e846-cd22b3818949"
      },
      "execution_count": null,
      "outputs": [
        {
          "output_type": "stream",
          "name": "stdout",
          "text": [
            "shape of train:  (28520, 772)\n",
            "Column 'label_2' has 480 missing values.\n"
          ]
        }
      ]
    },
    {
      "cell_type": "code",
      "source": [
        "from google.colab import drive\n",
        "drive.mount('/content/drive')"
      ],
      "metadata": {
        "id": "1GOKs1856D2o"
      },
      "execution_count": null,
      "outputs": []
    },
    {
      "cell_type": "code",
      "source": [
        "L1 = \"label_1\" #Speaker ID\n",
        "L2 = \"label_2\" #Speaker age\n",
        "L3 = \"label_3\" #Speaker gender\n",
        "L4 = \"label_4\" #Speaker accent\n",
        "LABELS = [L1, L2, L3, L4,]\n",
        "AGE_LABEL = L2\n",
        "FEATURES = [f'feature_{i}' for i in range(1,769)]"
      ],
      "metadata": {
        "id": "54elzCgdcc0_"
      },
      "execution_count": null,
      "outputs": []
    },
    {
      "cell_type": "code",
      "source": [
        "train_df = train.copy()\n",
        "test_df = test.copy()\n",
        "valid_df = valid.copy()\n",
        "\n",
        "train_df.head()"
      ],
      "metadata": {
        "id": "ax8NC3Js8Dqh"
      },
      "execution_count": null,
      "outputs": []
    },
    {
      "cell_type": "code",
      "source": [
        "train_df[LABELS + [FEATURES[i] for i in range(0,768)]].describe()"
      ],
      "metadata": {
        "id": "fQ49aKw58Mp_"
      },
      "execution_count": null,
      "outputs": []
    },
    {
      "cell_type": "code",
      "source": [
        "# @title **Scaling and Eliminating Outliers**\n",
        "from sklearn.preprocessing import RobustScaler\n",
        "\n",
        "x_train = {}\n",
        "x_valid = {}\n",
        "x_test = {}\n",
        "\n",
        "y_train = {}\n",
        "y_valid = {}\n",
        "y_test = {}\n",
        "\n",
        "#create dictionaries for each label\n",
        "for target_label in LABELS:\n",
        "  tr_df = train_df[train_df['label_2'].notna()] if target_label == \"label_2\" else train_df\n",
        "  vl_df = valid_df[valid_df['label_2'].notna()] if target_label == \"label_2\" else valid_df\n",
        "  te_df = test_df\n",
        "\n",
        "  scaler = RobustScaler()\n",
        "\n",
        "  x_train[target_label] = pd.DataFrame(scaler.fit_transform(tr_df.drop(LABELS, axis=1)), columns=FEATURES)\n",
        "  y_train[target_label] = tr_df[target_label]\n",
        "\n",
        "  x_valid[target_label] = pd.DataFrame(scaler.transform(vl_df.drop(LABELS, axis=1)), columns=FEATURES)\n",
        "  y_valid  [target_label] = vl_df[target_label]\n",
        "\n",
        "  x_test[target_label] = pd.DataFrame(scaler.transform(te_df.drop(['ID'], axis=1)), columns=FEATURES)\n"
      ],
      "metadata": {
        "id": "9CGAOKuhKn6q"
      },
      "execution_count": 54,
      "outputs": []
    },
    {
      "cell_type": "code",
      "source": [
        "# @title **Assigning Label**\n",
        "\n",
        "train_label = 'label_2'\n",
        "\n",
        "x_train_df = x_train[train_label].copy()\n",
        "y_train_df = y_train[train_label].copy()\n",
        "\n",
        "x_valid_df = x_valid[train_label].copy()\n",
        "y_valid_df = y_valid[train_label].copy()\n",
        "\n",
        "x_test_df = x_test[train_label].copy()\n"
      ],
      "metadata": {
        "id": "le61IzMqOEsq"
      },
      "execution_count": 55,
      "outputs": []
    },
    {
      "cell_type": "code",
      "source": [
        "from sklearn.utils import class_weight\n",
        "from sklearn import metrics\n",
        "from sklearn.metrics import classification_report, f1_score\n",
        "from sklearn.metrics import confusion_matrix\n",
        "\n",
        "from sklearn import svm\n",
        "from sklearn.neighbors import KNeighborsClassifier\n",
        "from sklearn.ensemble import RandomForestClassifier\n"
      ],
      "metadata": {
        "id": "cpECr0JEP2f0"
      },
      "execution_count": null,
      "outputs": []
    },
    {
      "cell_type": "markdown",
      "source": [
        "### **Test before Feature Engineering**"
      ],
      "metadata": {
        "id": "cnSdLf20ZRju"
      }
    },
    {
      "cell_type": "code",
      "source": [
        "classifier = svm.SVC(kernel='rbf')\n",
        "classifier.fit(x_train_df, y_train_df)\n",
        "\n",
        "y_pred = classifier.predict(x_valid_df)\n",
        "\n",
        "print(\"accuracy_score: \",metrics.accuracy_score(y_valid_df, y_pred))\n",
        "print(\"f1_score: \",f1_score(y_valid_df, y_pred, average='weighted'))\n",
        "print(\"precision_score: \",metrics.precision_score(y_valid_df, y_pred, average='weighted' ))\n",
        "print(\"recall_score: \",metrics.recall_score(y_valid_df, y_pred, average='weighted'))\n"
      ],
      "metadata": {
        "colab": {
          "base_uri": "https://localhost:8080/"
        },
        "id": "MvgfWbHcOWqi",
        "outputId": "fb3ba8b3-b315-4406-e918-668f91af8a88"
      },
      "execution_count": null,
      "outputs": [
        {
          "output_type": "stream",
          "name": "stdout",
          "text": [
            "accuracy_score:  0.9986666666666667\n",
            "f1_score:  0.9986648587491882\n",
            "precision_score:  0.9986688560481665\n",
            "recall_score:  0.9986666666666667\n"
          ]
        }
      ]
    },
    {
      "cell_type": "markdown",
      "source": [
        "### **FEATURE ENGINEERING**"
      ],
      "metadata": {
        "id": "2LenCqxnP9oi"
      }
    },
    {
      "cell_type": "code",
      "source": [
        "# @title 1. Feature selection using SelectKBest and f_classif\n",
        "from sklearn.feature_selection import SelectKBest, f_classif\n",
        "\n",
        "selector = SelectKBest(f_classif, k=150)\n",
        "x_train_df_after_f_classif = selector.fit_transform(x_train_df, y_train_df)\n",
        "x_valid_df_after_f_classif = selector.transform(x_valid_df)\n",
        "print(\"shape: \", x_train_df_after_f_classif.shape)\n",
        "\n",
        "x_test_df_after_f_classif = selector.transform(x_test_df)\n"
      ],
      "metadata": {
        "colab": {
          "base_uri": "https://localhost:8080/"
        },
        "id": "GPtJ0_nnQA4K",
        "outputId": "eccbe243-c06e-4fb5-bc82-f1081a6fbcce"
      },
      "execution_count": 56,
      "outputs": [
        {
          "output_type": "stream",
          "name": "stdout",
          "text": [
            "shape:  (28040, 150)\n"
          ]
        }
      ]
    },
    {
      "cell_type": "code",
      "source": [
        "# @title 2. PCA for feature engineering\n",
        "from sklearn.decomposition import PCA\n",
        "\n",
        "pca = PCA(n_components=0.98, svd_solver='full')\n",
        "pca.fit(x_train_df_after_f_classif)\n",
        "x_new = pd.DataFrame(pca.transform(x_train_df_after_f_classif))\n",
        "x_valid_trf_pca = pd.DataFrame(pca.transform(x_valid_df_after_f_classif))\n",
        "print('Shape after PCA: ',x_new.shape)\n",
        "\n",
        "x_test_df_final = pd.DataFrame(pca.transform(x_test_df_after_f_classif))\n"
      ],
      "metadata": {
        "colab": {
          "base_uri": "https://localhost:8080/"
        },
        "id": "ZL4EA9NLRh3c",
        "outputId": "73ba8d07-7685-4f08-e9b2-681df1a2ff71"
      },
      "execution_count": 57,
      "outputs": [
        {
          "output_type": "stream",
          "name": "stdout",
          "text": [
            "Shape after PCA:  (28040, 120)\n"
          ]
        }
      ]
    },
    {
      "cell_type": "markdown",
      "source": [
        "### **Model Evaluation (Without Hyper-parameter Tuning)**"
      ],
      "metadata": {
        "id": "gnMuD-w3O-fd"
      }
    },
    {
      "cell_type": "code",
      "source": [
        "# @title 1. SVM\n",
        "\n",
        "svm_clf = svm.SVC(kernel=\"rbf\", class_weight='balanced')\n",
        "svm_clf.fit( x_new, y_train_df)\n",
        "\n",
        "y_pred = svm_clf.predict(x_valid_trf_pca)\n",
        "\n",
        "print(\"accuracy_score: \",metrics.accuracy_score(y_valid_df, y_pred))\n",
        "print(\"f1_score: \",f1_score(y_valid_df, y_pred, average='weighted'))\n",
        "print(\"precision_score: \",metrics.precision_score(y_valid_df, y_pred, average='weighted' ))\n",
        "print(\"recall_score: \",metrics.recall_score(y_valid_df, y_pred, average='weighted'))"
      ],
      "metadata": {
        "id": "qs9Nb5iiU3F5",
        "cellView": "form",
        "colab": {
          "base_uri": "https://localhost:8080/"
        },
        "outputId": "758d9adc-ba92-4e95-9aba-638e9027ca3b"
      },
      "execution_count": 58,
      "outputs": [
        {
          "output_type": "stream",
          "name": "stdout",
          "text": [
            "accuracy_score:  0.8858695652173914\n",
            "f1_score:  0.8856515813173352\n",
            "precision_score:  0.8888088916476352\n",
            "recall_score:  0.8858695652173914\n"
          ]
        }
      ]
    },
    {
      "cell_type": "code",
      "source": [
        "# @title 2. K-NN\n",
        "\n",
        "k = 5  # Number of neighbors\n",
        "knn_clf = KNeighborsClassifier(n_neighbors=k)\n",
        "\n",
        "knn_clf.fit(x_new, y_train_df)\n",
        "y_pred = knn_clf.predict(x_valid_trf_pca)\n",
        "\n",
        "print(\"accuracy_score: \",metrics.accuracy_score(y_valid_df, y_pred))\n",
        "print(\"f1_score: \",f1_score(y_valid_df, y_pred, average='weighted'))\n",
        "print(\"precision_score: \",metrics.precision_score(y_valid_df, y_pred, average='weighted' ))\n",
        "print(\"recall_score: \",metrics.recall_score(y_valid_df, y_pred, average='weighted'))"
      ],
      "metadata": {
        "id": "OgmBbjEwSDkr",
        "cellView": "form"
      },
      "execution_count": null,
      "outputs": []
    },
    {
      "cell_type": "code",
      "source": [
        "# @title 3. Random Forest\n",
        "\n",
        "n = 60  # Number of estimators\n",
        "rf_clf = RandomForestClassifier(n_estimators=n)\n",
        "\n",
        "rf_clf.fit(x_new, y_train_df)\n",
        "y_pred = rf_clf.predict(x_valid_trf_pca)\n",
        "\n",
        "print(\"accuracy_score: \",metrics.accuracy_score(y_valid_df, y_pred))\n",
        "print(\"f1_score: \",f1_score(y_valid_df, y_pred, average='weighted'))\n",
        "print(\"precision_score: \",metrics.precision_score(y_valid_df, y_pred, average='weighted' ))\n",
        "print(\"recall_score: \",metrics.recall_score(y_valid_df, y_pred, average='weighted'))"
      ],
      "metadata": {
        "id": "q9Xl3s2Jw3qn"
      },
      "execution_count": null,
      "outputs": []
    },
    {
      "cell_type": "markdown",
      "source": [
        "### **Hyper-parameter Tuning**"
      ],
      "metadata": {
        "id": "isbKML6q2nR6"
      }
    },
    {
      "cell_type": "code",
      "source": [
        "from sklearn.model_selection import RandomizedSearchCV\n",
        "\n",
        "svm_clf = svm.SVC()\n",
        "\n",
        "param_grid = {\n",
        "    'C': [0.1,1],           # Uniform distribution between 0 and 10\n",
        "    'gamma': [0.001, 1],           # Log-uniform distribution between 0.001 and 1\n",
        "    'kernel': ['rbf'],\n",
        "    'degree': [1,2]\n",
        "}\n",
        "\n",
        "grid_search = RandomizedSearchCV(svm_clf, param_distributions=param_grid, n_iter=2, cv=5, verbose=1, n_jobs=-1)\n",
        "grid_search.fit(x_new, y_train_df)\n"
      ],
      "metadata": {
        "id": "hL01J5j07Ri7"
      },
      "execution_count": null,
      "outputs": []
    },
    {
      "cell_type": "code",
      "source": [
        "y_pred = grid_search.best_estimator_.predict(x_valid_trf_pca)\n",
        "\n",
        "print(\"accuracy_score: \",metrics.accuracy_score(y_valid_df, y_pred))\n",
        "print(\"f1_score: \",f1_score(y_valid_df, y_pred, average='weighted'))\n",
        "print(\"precision_score: \",metrics.precision_score(y_valid_df, y_pred, average='weighted' ))\n",
        "print(\"recall_score: \",metrics.recall_score(y_valid_df, y_pred, average='weighted'))"
      ],
      "metadata": {
        "id": "73k5Lg0V785I"
      },
      "execution_count": null,
      "outputs": []
    },
    {
      "cell_type": "markdown",
      "source": [
        "# **Final Predictions and Results**"
      ],
      "metadata": {
        "id": "0E0JARYFZ5Vu"
      }
    },
    {
      "cell_type": "code",
      "source": [
        "y_test_pred = grid_search.best_estimator_.predict(x_test_df_final)\n",
        "\n",
        "csv_file = \"/content/drive/MyDrive/ML Mini Project/NoteBook/190530H_submission_Layer10.csv\"\n",
        "dataframe = pd.read_csv(csv_file)\n",
        "dataframe[train_label] = y_test_pred\n",
        "dataframe.to_csv(csv_file,index=False)"
      ],
      "metadata": {
        "id": "dh7HRq1Aclf2"
      },
      "execution_count": null,
      "outputs": []
    }
  ]
}